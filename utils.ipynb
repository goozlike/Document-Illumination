{
 "cells": [
  {
   "cell_type": "code",
   "execution_count": 2,
   "id": "studied-impression",
   "metadata": {},
   "outputs": [],
   "source": [
    "import Levenshtein\n",
    "from PIL import Image, ImageDraw\n",
    "import pytesseract\n",
    "import re\n",
    "import os, os.path"
   ]
  },
  {
   "cell_type": "code",
   "execution_count": 6,
   "id": "spare-paradise",
   "metadata": {},
   "outputs": [],
   "source": [
    "def eval_ocr(gr_txt_path='txt/', res_img_path='img/', n_samples=None, verbose=0):\n",
    "    if n_samples is None:\n",
    "        n_samples = len(os.listdir(res_img_path))\n",
    "    else: \n",
    "        n_samples = min(n_samples, len(os.listdir(res_img_path)))\n",
    "    \n",
    "    error = 0\n",
    "    \n",
    "    for i in range(n_samples):\n",
    "        gr_file = gr_txt_path + str(i) + '.txt'\n",
    "        try:\n",
    "            gr = open(gr_file).read()\n",
    "        except:\n",
    "            print(\"Bad txt file \", gr_file)\n",
    "        \n",
    "        img_file = res_img_path + str(i) + '.jpg'\n",
    "        try: \n",
    "            res = re.sub('\\n+', '\\n', pytesseract.pytesseract.image_to_string(Image.open(img_file)))\n",
    "            res = re.sub('\\n ', '', res)\n",
    "\n",
    "        except:\n",
    "            print(\"Bad img file \", img_file)\n",
    "        \n",
    "        curr_dist = Levenshtein.distance(gr, res)\n",
    "        \n",
    "        if verbose:\n",
    "            print(curr_dist, \" error on image \", img_file)\n",
    "        \n",
    "        error += curr_dist / n_samples\n",
    "            \n",
    "    return error\n",
    "        \n"
   ]
  },
  {
   "cell_type": "code",
   "execution_count": 9,
   "id": "graduate-reservoir",
   "metadata": {},
   "outputs": [
    {
     "name": "stdout",
     "output_type": "stream",
     "text": [
      "lower baseline\n",
      "shadowed image 437.1400000000001\n"
     ]
    }
   ],
   "source": [
    "print(\"lower baseline\\nshadowed image\\n\",eval_ocr(n_samples=100))"
   ]
  },
  {
   "cell_type": "code",
   "execution_count": 11,
   "id": "sexual-electric",
   "metadata": {},
   "outputs": [
    {
     "name": "stdout",
     "output_type": "stream",
     "text": [
      "best baseline\n",
      "clean image 110.17999999999999\n"
     ]
    }
   ],
   "source": [
    "print(\"best baseline\\nclean image\\n\",eval_ocr(res_img_path='tr/',n_samples=100))"
   ]
  },
  {
   "cell_type": "code",
   "execution_count": null,
   "id": "national-mercy",
   "metadata": {},
   "outputs": [],
   "source": []
  }
 ],
 "metadata": {
  "kernelspec": {
   "display_name": "Python 3",
   "language": "python",
   "name": "python3"
  },
  "language_info": {
   "codemirror_mode": {
    "name": "ipython",
    "version": 3
   },
   "file_extension": ".py",
   "mimetype": "text/x-python",
   "name": "python",
   "nbconvert_exporter": "python",
   "pygments_lexer": "ipython3",
   "version": "3.8.2"
  }
 },
 "nbformat": 4,
 "nbformat_minor": 5
}
