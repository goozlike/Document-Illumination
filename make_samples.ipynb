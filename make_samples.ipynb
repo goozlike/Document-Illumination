{
 "cells": [
  {
   "cell_type": "code",
   "execution_count": 214,
   "metadata": {},
   "outputs": [],
   "source": [
    "from PIL import Image, ImageDraw\n",
    "import string\n",
    "import random\n",
    "import os\n",
    "from pdf2image import convert_from_path \n",
    "import numpy as np\n",
    "from scipy import ndimage\n",
    "import matplotlib.pyplot as plt\n",
    "from fpdf import FPDF"
   ]
  },
  {
   "cell_type": "code",
   "execution_count": 232,
   "metadata": {},
   "outputs": [],
   "source": [
    "def make_shadow(image):\n",
    "    n = np.random.randint(2, 6)\n",
    "    shadow = np.zeros((image.size[1], image.size[0]))\n",
    "    \n",
    "    pointsx = image.size[0]*np.random.random(n)\n",
    "    pointsy = image.size[1]*np.random.random(n)\n",
    "    \n",
    "    shadow[(pointsy).astype(np.int), (pointsx).astype(np.int)] = 1\n",
    "    shadow = ndimage.gaussian_filter(shadow, sigma=image.size[0] / (2 * n))\n",
    "    \n",
    "    image_arr = np.array(image.convert('LA'))[:, :, 0]\n",
    "    image_arr = np.where(image_arr > 200, 255, 0)\n",
    "    image_arr = np.where(image_arr == 255, image_arr - (shadow - np.min(shadow)) * 200 / np.max(shadow), image_arr)\n",
    "\n",
    "    return Image.fromarray(np.uint8(image_arr))"
   ]
  },
  {
   "cell_type": "code",
   "execution_count": 230,
   "metadata": {},
   "outputs": [],
   "source": [
    "\n",
    "def make_samples(out_dir='', n_samples=100, inf=None):\n",
    "\n",
    "    if len(out_dir) == 0:\n",
    "        out_dir = os.getcwd()\n",
    "    os.chdir(out_dir)\n",
    "    \n",
    "    try:\n",
    "        os.mkdir('img')\n",
    "    except:\n",
    "        pass\n",
    "    try:\n",
    "        os.mkdir('txt')\n",
    "    except:\n",
    "        pass\n",
    "    \n",
    "    aligns = ['L', 'C', 'R']\n",
    "    fonts = ['Courier', 'Arial', 'Times']\n",
    "    styles = ['', 'B', 'I', 'U']\n",
    "    \n",
    "    for i in range(n_samples):\n",
    "        pdf = FPDF() \n",
    "        pdf.add_page()\n",
    "        \n",
    "        font = random.choice(fonts)\n",
    "    \n",
    "        target = ''\n",
    "        \n",
    "        lines = random.randint(15, 25)\n",
    "        for _ in range(lines):\n",
    "            \n",
    "            fontsize = random.randint(10,16)\n",
    "            pdf.set_font(font, size=fontsize, style=random.choice(styles)) \n",
    "\n",
    "            str_size = random.randint(20,50)\n",
    "            randomstr = ''.join(random.choices(string.ascii_letters+string.digits + ' ' * 10, k=str_size))\n",
    "            target += randomstr + '\\n'\n",
    "        \n",
    "            pdf.cell(w=0, h=10, txt=randomstr, ln=1, align=random.choice(aligns)) \n",
    "        \n",
    "        pdf.output('temp1.pdf')    \n",
    "        image = convert_from_path('temp1.pdf', poppler_path=r'/usr/local/Cellar/poppler/20.11.0/bin')[0]\n",
    "        image = image.resize((1000, int(image.size[1] * 1000 / image.size[0])))\n",
    "\n",
    "        image = make_shadow(image)\n",
    "        image_path = 'img/' + str(i)+ '.jpg'\n",
    "        image.save(image_path, 'JPEG')\n",
    "        \n",
    "        target_path = 'txt/' + str(i)+ '.txt'\n",
    "        text_file = open(target_path, \"w\")\n",
    "        text_file.write(target)\n",
    "        text_file.close()\n",
    "        \n",
    "        if inf is not None and i % 10 == 0:\n",
    "            print('progress {:0.2f}'.format(i * 100/ n_samples), '%')\n",
    "    \n",
    "    os.remove('temp1.pdf')"
   ]
  },
  {
   "cell_type": "code",
   "execution_count": 231,
   "metadata": {},
   "outputs": [
    {
     "name": "stdout",
     "output_type": "stream",
     "text": [
      "progress 0.00 %\n",
      "progress 10.00 %\n",
      "progress 20.00 %\n",
      "progress 30.00 %\n",
      "progress 40.00 %\n",
      "progress 50.00 %\n",
      "progress 60.00 %\n",
      "progress 70.00 %\n",
      "progress 80.00 %\n",
      "progress 90.00 %\n"
     ]
    }
   ],
   "source": [
    "make_samples(n_samples=100, inf=1)"
   ]
  }
 ],
 "metadata": {
  "kernelspec": {
   "display_name": "Python 3",
   "language": "python",
   "name": "python3"
  },
  "language_info": {
   "codemirror_mode": {
    "name": "ipython",
    "version": 3
   },
   "file_extension": ".py",
   "mimetype": "text/x-python",
   "name": "python",
   "nbconvert_exporter": "python",
   "pygments_lexer": "ipython3",
   "version": "3.8.5"
  }
 },
 "nbformat": 4,
 "nbformat_minor": 4
}
