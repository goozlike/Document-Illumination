{
 "cells": [
  {
   "cell_type": "code",
   "execution_count": 19,
   "metadata": {},
   "outputs": [],
   "source": [
    "from PIL import Image, ImageDraw\n",
    "import string\n",
    "import random\n",
    "import os\n",
    "from pdf2image import convert_from_path \n",
    "\n"
   ]
  },
  {
   "cell_type": "code",
   "execution_count": 138,
   "metadata": {},
   "outputs": [],
   "source": [
    "\n",
    "def make_samples(out_dir='', n_samples=100):\n",
    "\n",
    "    if len(out_dir) == 0:\n",
    "        out_dir = os.getcwd()\n",
    "    os.chdir(out_dir)\n",
    "    \n",
    "    try:\n",
    "        os.mkdir('img')\n",
    "    except:\n",
    "        pass\n",
    "    try:\n",
    "        os.mkdir('txt')\n",
    "    except:\n",
    "        pass\n",
    "    \n",
    "    aligns = ['L', 'C', 'R']\n",
    "    fonts = ['Courier', 'Arial', 'Times']\n",
    "    styles = ['', 'B', 'I', 'U']\n",
    "    \n",
    "    for i in range(n_samples):\n",
    "        pdf = FPDF() \n",
    "        pdf.add_page()\n",
    "        \n",
    "        font = random.choice(fonts)\n",
    "    \n",
    "        target = ''\n",
    "        \n",
    "        lines = random.randint(15, 25)\n",
    "        for _ in range(lines):\n",
    "            \n",
    "            fontsize = random.randint(10,16)\n",
    "            pdf.set_font(font, size=fontsize, style=random.choice(styles)) \n",
    "\n",
    "            str_size = random.randint(20,50)\n",
    "            randomstr = ''.join(random.choices(string.ascii_letters+string.digits + ' ' * 10, k=str_size))\n",
    "            target += randomstr + '\\n'\n",
    "        \n",
    "            pdf.cell(w=0, h=10, txt=randomstr, ln=1, align=random.choice(aligns)) \n",
    "        \n",
    "        pdf.output('temp1.pdf')    \n",
    "        image = convert_from_path(out_dir + 'temp1.pdf', poppler_path=r'/usr/local/Cellar/poppler/20.11.0/bin')[0]\n",
    "        \n",
    "        image_path = 'img/' + str(i)+ '.jpg'\n",
    "        image.save(image_path, 'JPEG')\n",
    "        \n",
    "        target_path = 'txt/' + str(i)+ '.txt'\n",
    "        text_file = open(target_path, \"w\")\n",
    "        text_file.write(target)\n",
    "        text_file.close()\n",
    "    \n",
    "    os.remove('temp1.pdf')"
   ]
  },
  {
   "cell_type": "code",
   "execution_count": 140,
   "metadata": {},
   "outputs": [],
   "source": [
    "make_samples(n_samples=10)"
   ]
  },
  {
   "cell_type": "code",
   "execution_count": null,
   "metadata": {},
   "outputs": [],
   "source": []
  }
 ],
 "metadata": {
  "kernelspec": {
   "display_name": "Python 3",
   "language": "python",
   "name": "python3"
  },
  "language_info": {
   "codemirror_mode": {
    "name": "ipython",
    "version": 3
   },
   "file_extension": ".py",
   "mimetype": "text/x-python",
   "name": "python",
   "nbconvert_exporter": "python",
   "pygments_lexer": "ipython3",
   "version": "3.8.5"
  }
 },
 "nbformat": 4,
 "nbformat_minor": 4
}
