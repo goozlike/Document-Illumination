{
 "cells": [
  {
   "cell_type": "code",
   "execution_count": 1,
   "metadata": {},
   "outputs": [],
   "source": [
    "from PIL import Image, ImageDraw\n",
    "import string\n",
    "import random\n",
    "import os\n",
    "from pdf2image import convert_from_path \n",
    "import numpy as np\n",
    "from scipy import ndimage\n",
    "import matplotlib.pyplot as plt\n",
    "from fpdf import FPDF\n",
    "import pytesseract\n"
   ]
  },
  {
   "cell_type": "code",
   "execution_count": 60,
   "metadata": {},
   "outputs": [],
   "source": [
    "def make_shadow(image):\n",
    "    n = np.random.randint(2, 6)\n",
    "    shadow = np.zeros((image.size[1], image.size[0]))\n",
    "    \n",
    "    pointsx = image.size[0]*np.random.random(n)\n",
    "    pointsy = image.size[1]*np.random.random(n)\n",
    "    \n",
    "    shadow[(pointsy).astype(np.int), (pointsx).astype(np.int)] = 1\n",
    "    shadow = ndimage.gaussian_filter(shadow, sigma=image.size[0] / (2 * n))\n",
    "    \n",
    "    image_arr = np.array(image.convert('LA'))[:, :, 0]\n",
    "    image_arr = np.where(image_arr > 200, 255, 0)\n",
    "    image_arr = np.where(image_arr == 255, image_arr - (shadow - np.min(shadow)) * 200 / np.max(shadow), image_arr)\n",
    "\n",
    "    return Image.fromarray(np.uint8(image_arr))"
   ]
  },
  {
   "cell_type": "code",
   "execution_count": 93,
   "metadata": {},
   "outputs": [],
   "source": [
    "def make_bezier_shadow(image):\n",
    "    shadow = np.zeros((image.size[1], image.size[0]))\n",
    "    n_curves = np.random.randint(2, 4)\n",
    "    \n",
    "    for i in range(n_curves):\n",
    "        n_dots = np.random.randint(5, 9)\n",
    "        \n",
    "        pointsx = image.size[0]*np.random.random(n_dots)\n",
    "        pointsy = image.size[1]*np.random.random(n_dots)\n",
    "        \n",
    "        curve1 = bezier.Curve(np.asfortranarray([pointsx, pointsy]), degree=n_dots-1)\n",
    "\n",
    "        shadow_points = curve1.evaluate_multi(np.linspace(0.0, 1.0, 100))\n",
    "        shadow[(shadow_points[1]).astype(int), (shadow_points[0]).astype(int)] = 1\n",
    "    \n",
    "    shadow = ndimage.gaussian_filter(shadow, sigma=image.size[0] / (2 * n_dots))\n",
    "\n",
    "    image_arr = np.array(image.convert('LA'))[:, :, 0]\n",
    "    image_arr = np.where(image_arr > 200, 255, 0)\n",
    "    image_arr = np.where(image_arr == 255, image_arr - (shadow - np.min(shadow)) * 200 / np.max(shadow), image_arr)\n",
    "\n",
    "    return Image.fromarray(np.uint8(image_arr))\n",
    "    "
   ]
  },
  {
   "cell_type": "code",
   "execution_count": 101,
   "metadata": {},
   "outputs": [],
   "source": [
    "\n",
    "def make_samples(out_dir='', n_samples=100, inf=None):\n",
    "\n",
    "    if len(out_dir) == 0:\n",
    "        out_dir = os.getcwd()\n",
    "    os.chdir(out_dir)\n",
    "    \n",
    "    try:\n",
    "        os.mkdir('img')\n",
    "    except:\n",
    "        pass\n",
    "    try:\n",
    "        os.mkdir('txt')\n",
    "    except:\n",
    "        pass\n",
    "    \n",
    "    aligns = ['L', 'C', 'R']\n",
    "    fonts = ['Courier', 'Arial', 'Times']\n",
    "    styles = ['', 'B', 'I', 'U']\n",
    "    \n",
    "    for i in range(n_samples):\n",
    "        pdf = FPDF() \n",
    "        pdf.add_page()\n",
    "        \n",
    "        font = random.choice(fonts)\n",
    "    \n",
    "        target = ''\n",
    "        \n",
    "        lines = random.randint(15, 25)\n",
    "        for _ in range(lines):\n",
    "            \n",
    "            fontsize = random.randint(10,16)\n",
    "            pdf.set_font(font, size=fontsize, style=random.choice(styles)) \n",
    "\n",
    "            str_size = random.randint(20,50)\n",
    "            randomstr = ''.join(random.choices(string.ascii_letters+string.digits + ' ' * 10, k=str_size))\n",
    "            target += randomstr + '\\n'\n",
    "        \n",
    "            pdf.cell(w=0, h=10, txt=randomstr, ln=1, align=random.choice(aligns)) \n",
    "        \n",
    "        pdf.output('temp1.pdf')    \n",
    "        image = convert_from_path('temp1.pdf', poppler_path=r'/usr/local/Cellar/poppler/21.03.0_1/bin')[0]\n",
    "        image = image.resize((1000, int(image.size[1] * 1000 / image.size[0])))\n",
    "\n",
    "        image = make_bezier_shadow(image)\n",
    "        image_path = 'img/' + str(i)+ '.jpg'\n",
    "        image.save(image_path, 'JPEG')\n",
    "        \n",
    "        target_path = 'txt/' + str(i)+ '.txt'\n",
    "        text_file = open(target_path, \"w\")\n",
    "        text_file.write(target)\n",
    "        text_file.close()\n",
    "        \n",
    "        if inf is not None and i % 10 == 0:\n",
    "            print('progress {:0.2f}'.format(i * 100/ n_samples), '%')\n",
    "    \n",
    "    os.remove('temp1.pdf')"
   ]
  },
  {
   "cell_type": "code",
   "execution_count": 102,
   "metadata": {},
   "outputs": [
    {
     "name": "stdout",
     "output_type": "stream",
     "text": [
      "progress 0.00 %\n"
     ]
    }
   ],
   "source": [
    "make_samples(n_samples=5, inf=1)"
   ]
  },
  {
   "cell_type": "code",
   "execution_count": 119,
   "metadata": {},
   "outputs": [
    {
     "name": "stdout",
     "output_type": "stream",
     "text": [
      "E351HLS 532} 2JwWLO6JD211cV8\n",
      "pvoxXyybOvANFizuEGWDTfm2\n",
      "© GSHYVWVqLWx19wj148Ibr\n",
      "x9AWVMd6 ULd uXWelamTK Bn2YoN7ZTKMvsW zWG\n",
      "mvRNS HuoN xKC cCybj3d\n",
      "9NOMP FeZA jQJVUwLM pSEqyz8P\n",
      "O9DbUxIn OcriCz dwSzm8ykuue\n",
      "VLtkP. TIYXq5IzLualB3 Ba\n",
      "urS r1P w 6UMpGIr3 zinc d29ud uF77 zHw0kh m\n",
      "EZ1 EXCS j             \n",
      "gmMqI6XM3I 1 G 8fzKmkoCmft h5KpK1Di\n",
      "Ei 1x42 3 xU62uE SUEO 9240\n",
      "jP Sb92Z82HOwlf yEUxWIR7INT\n",
      "genhul KotnI sXg \n",
      "L\n",
      "Veh Pl r SzV 7JmuMel ahInAO r o\n",
      "yJpjG6 cH Si MtLX47h\n",
      "WO JBHHab oDYd2n0y\n",
      "mrt ig EaaStys\n",
      "TPtw8jPaklTegiH CWFfdyyKWilrnJ aK TSyF EAHag\n",
      "KL w2FpRtUTIVK B TL xlwH1\n",
      "w hl4g4ius bc 2 did    \n",
      "SIS DODAKUAOkCPSOQOn6!\n",
      "rLVyE34K rvvloknxv4\n",
      "gmam2UAT@vVxnIyJQ VM3BK Uvé\n",
      "HHTKaeol mLp B hgF KsGloDclCNhU 9 PW\n",
      "t9av 6 RGaB23n haGjcCi\n",
      "\f",
      "\n"
     ]
    }
   ],
   "source": [
    "import re\n",
    "s = re.sub('\\n+', '\\n', pytesseract.pytesseract.image_to_string(Image.open('img/0.jpg')))\n",
    "s = re.sub('\\n ', '', s)\n",
    "print(s)"
   ]
  },
  {
   "cell_type": "code",
   "execution_count": null,
   "metadata": {},
   "outputs": [],
   "source": []
  }
 ],
 "metadata": {
  "kernelspec": {
   "display_name": "Python 3",
   "language": "python",
   "name": "python3"
  },
  "language_info": {
   "codemirror_mode": {
    "name": "ipython",
    "version": 3
   },
   "file_extension": ".py",
   "mimetype": "text/x-python",
   "name": "python",
   "nbconvert_exporter": "python",
   "pygments_lexer": "ipython3",
   "version": "3.8.2"
  }
 },
 "nbformat": 4,
 "nbformat_minor": 4
}
