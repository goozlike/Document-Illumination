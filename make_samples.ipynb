{
 "cells": [
  {
   "cell_type": "code",
   "execution_count": 14,
   "metadata": {},
   "outputs": [],
   "source": [
    "from PIL import Image, ImageDraw\n",
    "import string\n",
    "import random\n",
    "import os\n",
    "from pdf2image import convert_from_path \n",
    "import numpy as np\n",
    "from scipy import ndimage\n",
    "import matplotlib.pyplot as plt\n",
    "from fpdf import FPDF\n",
    "import pytesseract\n",
    "import bezier\n"
   ]
  },
  {
   "cell_type": "code",
   "execution_count": 20,
   "metadata": {},
   "outputs": [],
   "source": [
    "def make_shadow(image):\n",
    "    n = np.random.randint(2, 6)\n",
    "    shadow = np.zeros((image.size[1], image.size[0]))\n",
    "    \n",
    "    pointsx = image.size[0]*np.random.random(n)\n",
    "    pointsy = image.size[1]*np.random.random(n)\n",
    "    \n",
    "    shadow[(pointsy).astype(np.int), (pointsx).astype(np.int)] = 1\n",
    "    shadow = ndimage.gaussian_filter(shadow, sigma=image.size[0] / (2 * n))\n",
    "    \n",
    "    image_arr = np.array(image.convert('LA'))[:, :, 0]\n",
    "    image_arr = np.where(image_arr > 200, 255, 0)\n",
    "    image_arr = np.where(image_arr == 255, image_arr - (shadow - np.min(shadow)) * 200 / np.max(shadow), image_arr)\n",
    "\n",
    "    return Image.fromarray(np.uint8(image_arr))"
   ]
  },
  {
   "cell_type": "code",
   "execution_count": null,
   "metadata": {},
   "outputs": [],
   "source": []
  },
  {
   "cell_type": "code",
   "execution_count": 237,
   "metadata": {},
   "outputs": [],
   "source": [
    "def make_bezier_shadow(image):\n",
    "    shadow = np.zeros((image.size[1], image.size[0]))\n",
    "    n_curves = np.random.randint(2, 4)\n",
    "    \n",
    "    for i in range(n_curves):\n",
    "        n_dots = np.random.randint(5, 9)\n",
    "        \n",
    "        pointsx = image.size[0]*np.random.random(n_dots)\n",
    "        pointsy = image.size[1]*np.random.random(n_dots)\n",
    "        \n",
    "        curve1 = bezier.Curve(np.asfortranarray([pointsx, pointsy]), degree=n_dots-1)\n",
    "\n",
    "        shadow_points = curve1.evaluate_multi(np.linspace(0.0, 1.0, 100))\n",
    "        shadow[(shadow_points[1]).astype(int), (shadow_points[0]).astype(int)] = 1\n",
    "    \n",
    "    s = np.random.uniform(0.5, 0.9)\n",
    "    shadow = ndimage.gaussian_filter(shadow, sigma=image.size[0] / (s * n_dots)).T\n",
    "    \n",
    "    darkness =  np.random.uniform(0.7, 0.85)\n",
    "    shadow = 1 - darkness * (shadow - np.min(shadow)) / np.max(shadow)\n",
    "\n",
    "    pixels = image.load()\n",
    "    for x in range(image.size[0]):\n",
    "        for y in range(image.size[1]):\n",
    "            pixels[x, y] =  (int(pixels[x, y][0] * shadow[x, y]),\n",
    "                             int(pixels[x, y][1] * shadow[x, y]),\n",
    "                             int(pixels[x, y][2] * shadow[x, y]))\n",
    "                        \n",
    "    return image\n",
    "    "
   ]
  },
  {
   "cell_type": "code",
   "execution_count": 244,
   "metadata": {},
   "outputs": [
    {
     "name": "stdout",
     "output_type": "stream",
     "text": [
      "progress 0.00 %\n"
     ]
    }
   ],
   "source": [
    "make_samples(n_samples=1, inf=1)"
   ]
  },
  {
   "cell_type": "code",
   "execution_count": 243,
   "metadata": {},
   "outputs": [],
   "source": [
    "\n",
    "def make_samples(out_dir='', n_samples=100, inf=None):\n",
    "\n",
    "    if len(out_dir) == 0:\n",
    "        out_dir = os.getcwd()\n",
    "    os.chdir(out_dir)\n",
    "    \n",
    "    try:\n",
    "        os.mkdir('img')\n",
    "    except:\n",
    "        pass\n",
    "    try:\n",
    "        os.mkdir('txt')\n",
    "    except:\n",
    "        pass\n",
    "    \n",
    "    aligns = ['L', 'C', 'R']\n",
    "    fonts = ['Courier', 'Arial', 'Times']\n",
    "    styles = ['', 'B', 'I', 'U']\n",
    "    \n",
    "    for i in range(n_samples):\n",
    "        pdf = FPDF() \n",
    "        pdf.add_page()\n",
    "        \n",
    "        font = random.choice(fonts)\n",
    "    \n",
    "        target = ''\n",
    "        \n",
    "        lines = random.randint(15, 25)\n",
    "        for _ in range(lines):\n",
    "            \n",
    "            fontsize = random.randint(20,30)\n",
    "            pdf.set_font(font, size=fontsize, style=random.choice(styles)) \n",
    "            r = random.randint(0, 50)\n",
    "            g = random.randint(0, 50)\n",
    "            b = random.randint(0, 50)\n",
    "\n",
    "            pdf.set_text_color(r, g, b)\n",
    "\n",
    "            str_size = random.randint(20,30)\n",
    "    \n",
    "\n",
    "            \n",
    "            randomstr = ''.join(random.choices(string.ascii_letters+string.digits + ' ' * 20, k=str_size))\n",
    "            target += randomstr + '\\n'\n",
    "        \n",
    "            pdf.cell(w=0, h=10, txt=randomstr, ln=1, align=random.choice(aligns)) \n",
    "        \n",
    "        pdf.output('temp1.pdf')    \n",
    "        image = convert_from_path('temp1.pdf', poppler_path=r'/usr/local/Cellar/poppler/21.04.0/bin')[0]\n",
    "        image = image.resize((680, int(image.size[1] * 680 / image.size[0])))\n",
    "        \n",
    "        image_path = 'gr/' + str(i)+ '.jpg'\n",
    "        image.save(image_path, 'JPEG')\n",
    "\n",
    "\n",
    "        image = make_bezier_shadow(image)\n",
    "        image_path = 'img/' + str(i)+ '.jpg'\n",
    "        image.save(image_path, 'JPEG')\n",
    "        \n",
    "        target_path = 'txt/' + str(i)+ '.txt'\n",
    "        text_file = open(target_path, \"w\")\n",
    "        text_file.write(target)\n",
    "        text_file.close()\n",
    "        \n",
    "        if inf is not None and i % 10 == 0:\n",
    "            print('progress {:0.2f}'.format(i * 100/ n_samples), '%')\n",
    "    \n",
    "    os.remove('temp1.pdf')"
   ]
  },
  {
   "cell_type": "code",
   "execution_count": 249,
   "metadata": {},
   "outputs": [],
   "source": [
    "import Levenshtein"
   ]
  },
  {
   "cell_type": "code",
   "execution_count": 253,
   "metadata": {},
   "outputs": [
    {
     "name": "stdout",
     "output_type": "stream",
     "text": [
      "   \n",
      "K5 ch9YmI 171\n",
      "PN sQ E 0s SPabs7 maOJ pl\n",
      "DCS D9FymSZE m dYA3W v\n",
      "cWy3y SmeWgDnX h6t DgAUD hMbl7\n",
      "yy DuTj0 yysIK aeywFi869\n",
      "zSiWj6B 1DeGjlMp 0 wTNyzng u\n",
      "\f",
      "\n"
     ]
    }
   ],
   "source": [
    "import re\n",
    "s = re.sub('\\n+', '\\n', pytesseract.pytesseract.image_to_string(Image.open('img/0.jpg')))\n",
    "s = re.sub('\\n ', '', s)\n",
    "print(s)"
   ]
  },
  {
   "cell_type": "code",
   "execution_count": 251,
   "metadata": {},
   "outputs": [
    {
     "name": "stdout",
     "output_type": "stream",
     "text": [
      "Gbb957eJk L 0 QJIWVEI\n",
      "1jl AUNWPECXEAQ 1h\n",
      "3qH Mv 6r2 9Q4 kuollgie\n",
      "IWIFFUWQRNIYLX gk GC HaPQv\n",
      "Gnx LvB ARQidbClIsjdAE4uvY\n",
      "IRI tYEVwxCg uliP\n",
      "sm MKU 6uws3B 4 9tzBS xI01\n",
      "L76tiWAjz4ljfkK k8D IqUa\n",
      "YF2 SIoE7 a OMyNEAehTI a\n",
      "kG Gu CJzS ZDV4 X55cBecm\n",
      "n2BC uMBBYvjv Iyz j4 1h\n",
      "EM eDUm 915 ToU xaD\n",
      "oleDv6 LH wtGQsny 7 1\n",
      "370 RHwX fMrMPk w30N 9 Dwl\n",
      "hQ 6Q6mZ97J50 bxk6\n",
      "K5 ch9YmI 171H e7nkHU\n",
      "PN sQ E 0s SPabs7 maOJ pE\n",
      "DCS DO9FymSZE m dYA3W v\n",
      "cWy3y SmeWgDnX h6t DgAUD hMbl7\n",
      "yy DuTj0 yysIK aeywFi869\n",
      "zSiWj6B 1DeGjlMp 0 wTNyzng u\n",
      "\f",
      "\n"
     ]
    }
   ],
   "source": [
    "import re\n",
    "clear = re.sub('\\n+', '\\n', pytesseract.pytesseract.image_to_string(Image.open('gr/0.jpg')))\n",
    "clear = re.sub('\\n ', '', s)\n",
    "print(s)"
   ]
  },
  {
   "cell_type": "code",
   "execution_count": 258,
   "metadata": {},
   "outputs": [
    {
     "name": "stdout",
     "output_type": "stream",
     "text": [
      " Gbb 9 57eJ k L 0 QJ1WVF l \n",
      "I j1 AUNWpECXEAQ l h\n",
      "3qH Mv 6r2 9Q4 kuoIlqie\n",
      " 9WJFfUwQRNJYLX gk GC HaPQv\n",
      "Gnx LvB ARQidbCIsjdAE4uvY\n",
      "lRI tYEVwxCg uliP \n",
      "sm MKU 6uws3B 4 9tzBS xI0l\n",
      " L76tiWAjz4IjfkK k8D IqUa\n",
      "YF2 SIoE7 a 0MyNEAehTl a\n",
      "kG Gu CJzS ZDV4 X55cBcm\n",
      " n2BC uMBBvjv Iyz j4 1h\n",
      "EM eDUm 9r5 ToU xaD \n",
      "o IeDv6 LH wtGQsny 7 1\n",
      "3 ZO RHwX fMrMPk w30N 9 Dwl\n",
      " hQ 6Q6mZ97J5O bxk6 \n",
      " K5 ch9YmI l71H e7nkHU\n",
      "PN sQ E 0s SPabs7 maOJ pE\n",
      "DCS D9FymSZE m dYA3W v\n",
      "cWy3y SmeWqDnX h6t DqAUD hMbl7\n",
      " yy DuTj0 yyslK aeywFi869 \n",
      "zSiWj6B 1DeGjlMp 0 wTNyzng u\n",
      "\n"
     ]
    }
   ],
   "source": [
    "truth = ''\n",
    "f = open(\"txt/0.txt\")\n",
    "gr = ''.join(f.readlines())\n",
    "gr = re.sub('  ', ' ', gr)\n",
    "gr = re.sub('  ', ' ', gr)\n",
    "\n",
    "\n",
    "print(gr)"
   ]
  },
  {
   "cell_type": "code",
   "execution_count": 259,
   "metadata": {},
   "outputs": [
    {
     "data": {
      "text/plain": [
       "378"
      ]
     },
     "execution_count": 259,
     "metadata": {},
     "output_type": "execute_result"
    }
   ],
   "source": [
    "Levenshtein.distance(gr, s)"
   ]
  },
  {
   "cell_type": "code",
   "execution_count": 260,
   "metadata": {},
   "outputs": [
    {
     "data": {
      "text/plain": [
       "53"
      ]
     },
     "execution_count": 260,
     "metadata": {},
     "output_type": "execute_result"
    }
   ],
   "source": [
    "Levenshtein.distance(gr, clear)"
   ]
  },
  {
   "cell_type": "code",
   "execution_count": null,
   "metadata": {},
   "outputs": [],
   "source": []
  }
 ],
 "metadata": {
  "kernelspec": {
   "display_name": "Python 3",
   "language": "python",
   "name": "python3"
  },
  "language_info": {
   "codemirror_mode": {
    "name": "ipython",
    "version": 3
   },
   "file_extension": ".py",
   "mimetype": "text/x-python",
   "name": "python",
   "nbconvert_exporter": "python",
   "pygments_lexer": "ipython3",
   "version": "3.8.2"
  }
 },
 "nbformat": 4,
 "nbformat_minor": 4
}
